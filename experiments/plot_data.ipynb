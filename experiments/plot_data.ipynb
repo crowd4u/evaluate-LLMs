{
 "cells": [
  {
   "cell_type": "code",
   "execution_count": 14,
   "outputs": [],
   "source": [
    "import pickle\n",
    "import os\n",
    "import glob\n",
    "import matplotlib.pyplot as plt\n",
    "import pandas as pd"
   ],
   "metadata": {
    "collapsed": false,
    "ExecuteTime": {
     "end_time": "2023-12-17T11:01:12.514577638Z",
     "start_time": "2023-12-17T11:01:12.379056593Z"
    }
   },
   "id": "4cedc0ff50268964"
  },
  {
   "cell_type": "code",
   "execution_count": 15,
   "outputs": [],
   "source": [
    "group_id = \"default\"\n",
    "\n",
    "# load result\n",
    "result_files = glob.glob(f\"./results/{group_id}/*.pickle\")\n",
    "results = []\n",
    "for file in result_files:\n",
    "    with open(file, \"rb\") as f:\n",
    "        results.append(pickle.load(f))\n",
    "\n",
    "# create plots folder\n",
    "os.makedirs(f\"./plots/{group_id}/\", exist_ok=True)\n"
   ],
   "metadata": {
    "collapsed": false,
    "ExecuteTime": {
     "end_time": "2023-12-17T11:01:12.558006865Z",
     "start_time": "2023-12-17T11:01:12.515761433Z"
    }
   },
   "id": "bb5bf5618f66e23a"
  },
  {
   "cell_type": "code",
   "execution_count": 60,
   "outputs": [
    {
     "data": {
      "text/plain": "            model                   label  accuracy  precision  TP  TN  FP  \\\n0   gpt-3.5-turbo                 Company       1.0        1.0   5   5   0   \n1   gpt-3.5-turbo  EducationalInstitution       0.7        0.4   2   5   3   \n2   gpt-3.5-turbo                  Artist       0.7        0.4   2   5   3   \n3   gpt-3.5-turbo                 Athlete       0.3        0.0   0   3   5   \n4   gpt-3.5-turbo            OfficeHolder       0.8        1.0   5   3   0   \n5   gpt-3.5-turbo    MeanOfTransportation       0.7        1.0   5   2   0   \n6   gpt-3.5-turbo                Building       0.8        0.6   3   5   2   \n7   gpt-3.5-turbo            NaturalPlace       0.6        0.2   1   5   4   \n8   gpt-3.5-turbo                 Village       0.5        0.0   0   5   5   \n9   gpt-3.5-turbo                  Animal       0.6        0.8   4   2   1   \n10  gpt-3.5-turbo                   Plant       0.9        0.8   4   5   1   \n11  gpt-3.5-turbo                   Album       0.9        0.8   4   5   1   \n12  gpt-3.5-turbo                    Film       1.0        1.0   5   5   0   \n13  gpt-3.5-turbo             WrittenWork       1.0        1.0   5   5   0   \n\n    FN  n_samples  n_trials          model  \n0    0          5         1  gpt-3.5-turbo  \n1    0          5         1  gpt-3.5-turbo  \n2    0          5         1  gpt-3.5-turbo  \n3    2          5         1  gpt-3.5-turbo  \n4    2          5         1  gpt-3.5-turbo  \n5    3          5         1  gpt-3.5-turbo  \n6    0          5         1  gpt-3.5-turbo  \n7    0          5         1  gpt-3.5-turbo  \n8    0          5         1  gpt-3.5-turbo  \n9    3          5         1  gpt-3.5-turbo  \n10   0          5         1  gpt-3.5-turbo  \n11   0          5         1  gpt-3.5-turbo  \n12   0          5         1  gpt-3.5-turbo  \n13   0          5         1  gpt-3.5-turbo  ",
      "text/html": "<div>\n<style scoped>\n    .dataframe tbody tr th:only-of-type {\n        vertical-align: middle;\n    }\n\n    .dataframe tbody tr th {\n        vertical-align: top;\n    }\n\n    .dataframe thead th {\n        text-align: right;\n    }\n</style>\n<table border=\"1\" class=\"dataframe\">\n  <thead>\n    <tr style=\"text-align: right;\">\n      <th></th>\n      <th>model</th>\n      <th>label</th>\n      <th>accuracy</th>\n      <th>precision</th>\n      <th>TP</th>\n      <th>TN</th>\n      <th>FP</th>\n      <th>FN</th>\n      <th>n_samples</th>\n      <th>n_trials</th>\n      <th>model</th>\n    </tr>\n  </thead>\n  <tbody>\n    <tr>\n      <th>0</th>\n      <td>gpt-3.5-turbo</td>\n      <td>Company</td>\n      <td>1.0</td>\n      <td>1.0</td>\n      <td>5</td>\n      <td>5</td>\n      <td>0</td>\n      <td>0</td>\n      <td>5</td>\n      <td>1</td>\n      <td>gpt-3.5-turbo</td>\n    </tr>\n    <tr>\n      <th>1</th>\n      <td>gpt-3.5-turbo</td>\n      <td>EducationalInstitution</td>\n      <td>0.7</td>\n      <td>0.4</td>\n      <td>2</td>\n      <td>5</td>\n      <td>3</td>\n      <td>0</td>\n      <td>5</td>\n      <td>1</td>\n      <td>gpt-3.5-turbo</td>\n    </tr>\n    <tr>\n      <th>2</th>\n      <td>gpt-3.5-turbo</td>\n      <td>Artist</td>\n      <td>0.7</td>\n      <td>0.4</td>\n      <td>2</td>\n      <td>5</td>\n      <td>3</td>\n      <td>0</td>\n      <td>5</td>\n      <td>1</td>\n      <td>gpt-3.5-turbo</td>\n    </tr>\n    <tr>\n      <th>3</th>\n      <td>gpt-3.5-turbo</td>\n      <td>Athlete</td>\n      <td>0.3</td>\n      <td>0.0</td>\n      <td>0</td>\n      <td>3</td>\n      <td>5</td>\n      <td>2</td>\n      <td>5</td>\n      <td>1</td>\n      <td>gpt-3.5-turbo</td>\n    </tr>\n    <tr>\n      <th>4</th>\n      <td>gpt-3.5-turbo</td>\n      <td>OfficeHolder</td>\n      <td>0.8</td>\n      <td>1.0</td>\n      <td>5</td>\n      <td>3</td>\n      <td>0</td>\n      <td>2</td>\n      <td>5</td>\n      <td>1</td>\n      <td>gpt-3.5-turbo</td>\n    </tr>\n    <tr>\n      <th>5</th>\n      <td>gpt-3.5-turbo</td>\n      <td>MeanOfTransportation</td>\n      <td>0.7</td>\n      <td>1.0</td>\n      <td>5</td>\n      <td>2</td>\n      <td>0</td>\n      <td>3</td>\n      <td>5</td>\n      <td>1</td>\n      <td>gpt-3.5-turbo</td>\n    </tr>\n    <tr>\n      <th>6</th>\n      <td>gpt-3.5-turbo</td>\n      <td>Building</td>\n      <td>0.8</td>\n      <td>0.6</td>\n      <td>3</td>\n      <td>5</td>\n      <td>2</td>\n      <td>0</td>\n      <td>5</td>\n      <td>1</td>\n      <td>gpt-3.5-turbo</td>\n    </tr>\n    <tr>\n      <th>7</th>\n      <td>gpt-3.5-turbo</td>\n      <td>NaturalPlace</td>\n      <td>0.6</td>\n      <td>0.2</td>\n      <td>1</td>\n      <td>5</td>\n      <td>4</td>\n      <td>0</td>\n      <td>5</td>\n      <td>1</td>\n      <td>gpt-3.5-turbo</td>\n    </tr>\n    <tr>\n      <th>8</th>\n      <td>gpt-3.5-turbo</td>\n      <td>Village</td>\n      <td>0.5</td>\n      <td>0.0</td>\n      <td>0</td>\n      <td>5</td>\n      <td>5</td>\n      <td>0</td>\n      <td>5</td>\n      <td>1</td>\n      <td>gpt-3.5-turbo</td>\n    </tr>\n    <tr>\n      <th>9</th>\n      <td>gpt-3.5-turbo</td>\n      <td>Animal</td>\n      <td>0.6</td>\n      <td>0.8</td>\n      <td>4</td>\n      <td>2</td>\n      <td>1</td>\n      <td>3</td>\n      <td>5</td>\n      <td>1</td>\n      <td>gpt-3.5-turbo</td>\n    </tr>\n    <tr>\n      <th>10</th>\n      <td>gpt-3.5-turbo</td>\n      <td>Plant</td>\n      <td>0.9</td>\n      <td>0.8</td>\n      <td>4</td>\n      <td>5</td>\n      <td>1</td>\n      <td>0</td>\n      <td>5</td>\n      <td>1</td>\n      <td>gpt-3.5-turbo</td>\n    </tr>\n    <tr>\n      <th>11</th>\n      <td>gpt-3.5-turbo</td>\n      <td>Album</td>\n      <td>0.9</td>\n      <td>0.8</td>\n      <td>4</td>\n      <td>5</td>\n      <td>1</td>\n      <td>0</td>\n      <td>5</td>\n      <td>1</td>\n      <td>gpt-3.5-turbo</td>\n    </tr>\n    <tr>\n      <th>12</th>\n      <td>gpt-3.5-turbo</td>\n      <td>Film</td>\n      <td>1.0</td>\n      <td>1.0</td>\n      <td>5</td>\n      <td>5</td>\n      <td>0</td>\n      <td>0</td>\n      <td>5</td>\n      <td>1</td>\n      <td>gpt-3.5-turbo</td>\n    </tr>\n    <tr>\n      <th>13</th>\n      <td>gpt-3.5-turbo</td>\n      <td>WrittenWork</td>\n      <td>1.0</td>\n      <td>1.0</td>\n      <td>5</td>\n      <td>5</td>\n      <td>0</td>\n      <td>0</td>\n      <td>5</td>\n      <td>1</td>\n      <td>gpt-3.5-turbo</td>\n    </tr>\n  </tbody>\n</table>\n</div>"
     },
     "execution_count": 60,
     "metadata": {},
     "output_type": "execute_result"
    }
   ],
   "source": [
    "# make results into dataframe\n",
    "df_columns = [\"model\", \"label\", \"accuracy\", \"precision\", \"TP\", \"TN\", \"FP\", \"FN\", \"n_samples\", \"n_trials\", \"model\"]\n",
    "df_data = []\n",
    "for r in results:\n",
    "    args = r[\"args\"]\n",
    "    n_trials = args.n_trials\n",
    "    max_retry = args.max_retry\n",
    "    model = args.model\n",
    "    for trial in r[\"result\"]:\n",
    "        for sample in trial:\n",
    "            df_data.append([\n",
    "                model,\n",
    "                sample[\"class label\"],\n",
    "                sample[\"accuracy\"],\n",
    "                sample[\"precision\"],\n",
    "                sample[\"TP\"],\n",
    "                sample[\"TN\"],\n",
    "                sample[\"FP\"],\n",
    "                sample[\"FN\"],\n",
    "                sample[\"n_samples\"],\n",
    "                n_trials,\n",
    "                model,\n",
    "            ])\n",
    "df_results = pd.DataFrame(df_data, columns=df_columns)\n",
    "df_results"
   ],
   "metadata": {
    "collapsed": false,
    "ExecuteTime": {
     "end_time": "2023-12-17T13:00:28.119843480Z",
     "start_time": "2023-12-17T13:00:28.117020503Z"
    }
   },
   "id": "f390fa4e825bfdde"
  },
  {
   "cell_type": "code",
   "execution_count": 61,
   "outputs": [
    {
     "data": {
      "text/plain": "                     label  n_samples  accuracy  precision   TP   TN   FP  \\\n0                    Album          5       0.9        0.8  4.0  5.0  1.0   \n1                   Animal          5       0.6        0.8  4.0  2.0  1.0   \n2                   Artist          5       0.7        0.4  2.0  5.0  3.0   \n3                  Athlete          5       0.3        0.0  0.0  3.0  5.0   \n4                 Building          5       0.8        0.6  3.0  5.0  2.0   \n5                  Company          5       1.0        1.0  5.0  5.0  0.0   \n6   EducationalInstitution          5       0.7        0.4  2.0  5.0  3.0   \n7                     Film          5       1.0        1.0  5.0  5.0  0.0   \n8     MeanOfTransportation          5       0.7        1.0  5.0  2.0  0.0   \n9             NaturalPlace          5       0.6        0.2  1.0  5.0  4.0   \n10            OfficeHolder          5       0.8        1.0  5.0  3.0  0.0   \n11                   Plant          5       0.9        0.8  4.0  5.0  1.0   \n12                 Village          5       0.5        0.0  0.0  5.0  5.0   \n13             WrittenWork          5       1.0        1.0  5.0  5.0  0.0   \n\n     FN  n_trials  \n0   0.0       1.0  \n1   3.0       1.0  \n2   0.0       1.0  \n3   2.0       1.0  \n4   0.0       1.0  \n5   0.0       1.0  \n6   0.0       1.0  \n7   0.0       1.0  \n8   3.0       1.0  \n9   0.0       1.0  \n10  2.0       1.0  \n11  0.0       1.0  \n12  0.0       1.0  \n13  0.0       1.0  ",
      "text/html": "<div>\n<style scoped>\n    .dataframe tbody tr th:only-of-type {\n        vertical-align: middle;\n    }\n\n    .dataframe tbody tr th {\n        vertical-align: top;\n    }\n\n    .dataframe thead th {\n        text-align: right;\n    }\n</style>\n<table border=\"1\" class=\"dataframe\">\n  <thead>\n    <tr style=\"text-align: right;\">\n      <th></th>\n      <th>label</th>\n      <th>n_samples</th>\n      <th>accuracy</th>\n      <th>precision</th>\n      <th>TP</th>\n      <th>TN</th>\n      <th>FP</th>\n      <th>FN</th>\n      <th>n_trials</th>\n    </tr>\n  </thead>\n  <tbody>\n    <tr>\n      <th>0</th>\n      <td>Album</td>\n      <td>5</td>\n      <td>0.9</td>\n      <td>0.8</td>\n      <td>4.0</td>\n      <td>5.0</td>\n      <td>1.0</td>\n      <td>0.0</td>\n      <td>1.0</td>\n    </tr>\n    <tr>\n      <th>1</th>\n      <td>Animal</td>\n      <td>5</td>\n      <td>0.6</td>\n      <td>0.8</td>\n      <td>4.0</td>\n      <td>2.0</td>\n      <td>1.0</td>\n      <td>3.0</td>\n      <td>1.0</td>\n    </tr>\n    <tr>\n      <th>2</th>\n      <td>Artist</td>\n      <td>5</td>\n      <td>0.7</td>\n      <td>0.4</td>\n      <td>2.0</td>\n      <td>5.0</td>\n      <td>3.0</td>\n      <td>0.0</td>\n      <td>1.0</td>\n    </tr>\n    <tr>\n      <th>3</th>\n      <td>Athlete</td>\n      <td>5</td>\n      <td>0.3</td>\n      <td>0.0</td>\n      <td>0.0</td>\n      <td>3.0</td>\n      <td>5.0</td>\n      <td>2.0</td>\n      <td>1.0</td>\n    </tr>\n    <tr>\n      <th>4</th>\n      <td>Building</td>\n      <td>5</td>\n      <td>0.8</td>\n      <td>0.6</td>\n      <td>3.0</td>\n      <td>5.0</td>\n      <td>2.0</td>\n      <td>0.0</td>\n      <td>1.0</td>\n    </tr>\n    <tr>\n      <th>5</th>\n      <td>Company</td>\n      <td>5</td>\n      <td>1.0</td>\n      <td>1.0</td>\n      <td>5.0</td>\n      <td>5.0</td>\n      <td>0.0</td>\n      <td>0.0</td>\n      <td>1.0</td>\n    </tr>\n    <tr>\n      <th>6</th>\n      <td>EducationalInstitution</td>\n      <td>5</td>\n      <td>0.7</td>\n      <td>0.4</td>\n      <td>2.0</td>\n      <td>5.0</td>\n      <td>3.0</td>\n      <td>0.0</td>\n      <td>1.0</td>\n    </tr>\n    <tr>\n      <th>7</th>\n      <td>Film</td>\n      <td>5</td>\n      <td>1.0</td>\n      <td>1.0</td>\n      <td>5.0</td>\n      <td>5.0</td>\n      <td>0.0</td>\n      <td>0.0</td>\n      <td>1.0</td>\n    </tr>\n    <tr>\n      <th>8</th>\n      <td>MeanOfTransportation</td>\n      <td>5</td>\n      <td>0.7</td>\n      <td>1.0</td>\n      <td>5.0</td>\n      <td>2.0</td>\n      <td>0.0</td>\n      <td>3.0</td>\n      <td>1.0</td>\n    </tr>\n    <tr>\n      <th>9</th>\n      <td>NaturalPlace</td>\n      <td>5</td>\n      <td>0.6</td>\n      <td>0.2</td>\n      <td>1.0</td>\n      <td>5.0</td>\n      <td>4.0</td>\n      <td>0.0</td>\n      <td>1.0</td>\n    </tr>\n    <tr>\n      <th>10</th>\n      <td>OfficeHolder</td>\n      <td>5</td>\n      <td>0.8</td>\n      <td>1.0</td>\n      <td>5.0</td>\n      <td>3.0</td>\n      <td>0.0</td>\n      <td>2.0</td>\n      <td>1.0</td>\n    </tr>\n    <tr>\n      <th>11</th>\n      <td>Plant</td>\n      <td>5</td>\n      <td>0.9</td>\n      <td>0.8</td>\n      <td>4.0</td>\n      <td>5.0</td>\n      <td>1.0</td>\n      <td>0.0</td>\n      <td>1.0</td>\n    </tr>\n    <tr>\n      <th>12</th>\n      <td>Village</td>\n      <td>5</td>\n      <td>0.5</td>\n      <td>0.0</td>\n      <td>0.0</td>\n      <td>5.0</td>\n      <td>5.0</td>\n      <td>0.0</td>\n      <td>1.0</td>\n    </tr>\n    <tr>\n      <th>13</th>\n      <td>WrittenWork</td>\n      <td>5</td>\n      <td>1.0</td>\n      <td>1.0</td>\n      <td>5.0</td>\n      <td>5.0</td>\n      <td>0.0</td>\n      <td>0.0</td>\n      <td>1.0</td>\n    </tr>\n  </tbody>\n</table>\n</div>"
     },
     "execution_count": 61,
     "metadata": {},
     "output_type": "execute_result"
    }
   ],
   "source": [
    "# group by n_sample\n",
    "res_g_sample = df_results.groupby(by=[\"label\",\"n_samples\"], as_index=False).mean(\"precision\", \"accuracy\")\n",
    "res_g_sample"
   ],
   "metadata": {
    "collapsed": false,
    "ExecuteTime": {
     "end_time": "2023-12-17T13:00:31.080239472Z",
     "start_time": "2023-12-17T13:00:31.071965658Z"
    }
   },
   "id": "196333267e9f4dd5"
  },
  {
   "cell_type": "code",
   "execution_count": 27,
   "outputs": [
    {
     "ename": "AttributeError",
     "evalue": "'DataFrame' object has no attribute 'unique'",
     "output_type": "error",
     "traceback": [
      "\u001B[0;31m---------------------------------------------------------------------------\u001B[0m",
      "\u001B[0;31mAttributeError\u001B[0m                            Traceback (most recent call last)",
      "\u001B[0;32m/tmp/ipykernel_255280/270617331.py\u001B[0m in \u001B[0;36m?\u001B[0;34m()\u001B[0m\n\u001B[1;32m     14\u001B[0m \u001B[0;31m# get average of accuracy and precision for each label group by n_sample\u001B[0m\u001B[0;34m\u001B[0m\u001B[0;34m\u001B[0m\u001B[0m\n\u001B[1;32m     15\u001B[0m \u001B[0mplots\u001B[0m \u001B[0;34m=\u001B[0m \u001B[0;34m{\u001B[0m\u001B[0;34m}\u001B[0m\u001B[0;34m\u001B[0m\u001B[0;34m\u001B[0m\u001B[0m\n\u001B[1;32m     16\u001B[0m \u001B[0;32mfor\u001B[0m \u001B[0mlabel\u001B[0m \u001B[0;32min\u001B[0m \u001B[0mlabels\u001B[0m\u001B[0;34m:\u001B[0m\u001B[0;34m\u001B[0m\u001B[0;34m\u001B[0m\u001B[0m\n\u001B[1;32m     17\u001B[0m     \u001B[0mplots\u001B[0m\u001B[0;34m[\u001B[0m\u001B[0mlabel\u001B[0m\u001B[0;34m]\u001B[0m \u001B[0;34m=\u001B[0m \u001B[0;34m{\u001B[0m\u001B[0;34m}\u001B[0m\u001B[0;34m\u001B[0m\u001B[0;34m\u001B[0m\u001B[0m\n\u001B[0;32m---> 18\u001B[0;31m     \u001B[0;32mfor\u001B[0m \u001B[0mn_sample\u001B[0m \u001B[0;32min\u001B[0m \u001B[0mdf_results\u001B[0m\u001B[0;34m[\u001B[0m\u001B[0;34m\"n_sample\"\u001B[0m\u001B[0;34m]\u001B[0m\u001B[0;34m.\u001B[0m\u001B[0munique\u001B[0m\u001B[0;34m(\u001B[0m\u001B[0;34m)\u001B[0m\u001B[0;34m:\u001B[0m\u001B[0;34m\u001B[0m\u001B[0;34m\u001B[0m\u001B[0m\n\u001B[0m\u001B[1;32m     19\u001B[0m         plots[label][n_sample] = {\n\u001B[1;32m     20\u001B[0m             \u001B[0;34m\"accuracy\"\u001B[0m\u001B[0;34m:\u001B[0m \u001B[0msum\u001B[0m\u001B[0;34m(\u001B[0m\u001B[0;34m[\u001B[0m\u001B[0mx\u001B[0m\u001B[0;34m[\u001B[0m\u001B[0;34m\"accuracy\"\u001B[0m\u001B[0;34m]\u001B[0m \u001B[0;32mfor\u001B[0m \u001B[0mx\u001B[0m \u001B[0;32min\u001B[0m \u001B[0mlabels\u001B[0m\u001B[0;34m[\u001B[0m\u001B[0mlabel\u001B[0m\u001B[0;34m]\u001B[0m \u001B[0;32mif\u001B[0m \u001B[0mx\u001B[0m\u001B[0;34m[\u001B[0m\u001B[0;34m\"n_sample\"\u001B[0m\u001B[0;34m]\u001B[0m \u001B[0;34m==\u001B[0m \u001B[0mn_sample\u001B[0m\u001B[0;34m]\u001B[0m\u001B[0;34m)\u001B[0m \u001B[0;34m/\u001B[0m \u001B[0mlen\u001B[0m\u001B[0;34m(\u001B[0m\u001B[0;34m[\u001B[0m\u001B[0mx\u001B[0m\u001B[0;34m[\u001B[0m\u001B[0;34m\"accuracy\"\u001B[0m\u001B[0;34m]\u001B[0m \u001B[0;32mfor\u001B[0m \u001B[0mx\u001B[0m \u001B[0;32min\u001B[0m \u001B[0mlabels\u001B[0m\u001B[0;34m[\u001B[0m\u001B[0mlabel\u001B[0m\u001B[0;34m]\u001B[0m \u001B[0;32mif\u001B[0m \u001B[0mx\u001B[0m\u001B[0;34m[\u001B[0m\u001B[0;34m\"n_sample\"\u001B[0m\u001B[0;34m]\u001B[0m \u001B[0;34m==\u001B[0m \u001B[0mn_sample\u001B[0m\u001B[0;34m]\u001B[0m\u001B[0;34m)\u001B[0m\u001B[0;34m,\u001B[0m\u001B[0;34m\u001B[0m\u001B[0;34m\u001B[0m\u001B[0m\n\u001B[1;32m     21\u001B[0m             \u001B[0;34m\"precision\"\u001B[0m\u001B[0;34m:\u001B[0m \u001B[0msum\u001B[0m\u001B[0;34m(\u001B[0m\u001B[0;34m[\u001B[0m\u001B[0mx\u001B[0m\u001B[0;34m[\u001B[0m\u001B[0;34m\"precision\"\u001B[0m\u001B[0;34m]\u001B[0m \u001B[0;32mfor\u001B[0m \u001B[0mx\u001B[0m \u001B[0;32min\u001B[0m \u001B[0mlabels\u001B[0m\u001B[0;34m[\u001B[0m\u001B[0mlabel\u001B[0m\u001B[0;34m]\u001B[0m \u001B[0;32mif\u001B[0m \u001B[0mx\u001B[0m\u001B[0;34m[\u001B[0m\u001B[0;34m\"n_sample\"\u001B[0m\u001B[0;34m]\u001B[0m \u001B[0;34m==\u001B[0m \u001B[0mn_sample\u001B[0m\u001B[0;34m]\u001B[0m\u001B[0;34m)\u001B[0m \u001B[0;34m/\u001B[0m \u001B[0mlen\u001B[0m\u001B[0;34m(\u001B[0m\u001B[0;34m[\u001B[0m\u001B[0mx\u001B[0m\u001B[0;34m[\u001B[0m\u001B[0;34m\"precision\"\u001B[0m\u001B[0;34m]\u001B[0m \u001B[0;32mfor\u001B[0m \u001B[0mx\u001B[0m \u001B[0;32min\u001B[0m \u001B[0mlabels\u001B[0m\u001B[0;34m[\u001B[0m\u001B[0mlabel\u001B[0m\u001B[0;34m]\u001B[0m \u001B[0;32mif\u001B[0m \u001B[0mx\u001B[0m\u001B[0;34m[\u001B[0m\u001B[0;34m\"n_sample\"\u001B[0m\u001B[0;34m]\u001B[0m \u001B[0;34m==\u001B[0m \u001B[0mn_sample\u001B[0m\u001B[0;34m]\u001B[0m\u001B[0;34m)\u001B[0m\u001B[0;34m,\u001B[0m\u001B[0;34m\u001B[0m\u001B[0;34m\u001B[0m\u001B[0m\n",
      "\u001B[0;32m~/.cache/pypoetry/virtualenvs/evaluate-llms-FAOd4Su--py3.12/lib/python3.12/site-packages/pandas/core/generic.py\u001B[0m in \u001B[0;36m?\u001B[0;34m(self, name)\u001B[0m\n\u001B[1;32m   6200\u001B[0m             \u001B[0;32mand\u001B[0m \u001B[0mname\u001B[0m \u001B[0;32mnot\u001B[0m \u001B[0;32min\u001B[0m \u001B[0mself\u001B[0m\u001B[0;34m.\u001B[0m\u001B[0m_accessors\u001B[0m\u001B[0;34m\u001B[0m\u001B[0;34m\u001B[0m\u001B[0m\n\u001B[1;32m   6201\u001B[0m             \u001B[0;32mand\u001B[0m \u001B[0mself\u001B[0m\u001B[0;34m.\u001B[0m\u001B[0m_info_axis\u001B[0m\u001B[0;34m.\u001B[0m\u001B[0m_can_hold_identifiers_and_holds_name\u001B[0m\u001B[0;34m(\u001B[0m\u001B[0mname\u001B[0m\u001B[0;34m)\u001B[0m\u001B[0;34m\u001B[0m\u001B[0;34m\u001B[0m\u001B[0m\n\u001B[1;32m   6202\u001B[0m         \u001B[0;34m)\u001B[0m\u001B[0;34m:\u001B[0m\u001B[0;34m\u001B[0m\u001B[0;34m\u001B[0m\u001B[0m\n\u001B[1;32m   6203\u001B[0m             \u001B[0;32mreturn\u001B[0m \u001B[0mself\u001B[0m\u001B[0;34m[\u001B[0m\u001B[0mname\u001B[0m\u001B[0;34m]\u001B[0m\u001B[0;34m\u001B[0m\u001B[0;34m\u001B[0m\u001B[0m\n\u001B[0;32m-> 6204\u001B[0;31m         \u001B[0;32mreturn\u001B[0m \u001B[0mobject\u001B[0m\u001B[0;34m.\u001B[0m\u001B[0m__getattribute__\u001B[0m\u001B[0;34m(\u001B[0m\u001B[0mself\u001B[0m\u001B[0;34m,\u001B[0m \u001B[0mname\u001B[0m\u001B[0;34m)\u001B[0m\u001B[0;34m\u001B[0m\u001B[0;34m\u001B[0m\u001B[0m\n\u001B[0m",
      "\u001B[0;31mAttributeError\u001B[0m: 'DataFrame' object has no attribute 'unique'"
     ]
    }
   ],
   "source": [
    "# plot accuracy and precision with df_results\n",
    "# x axis: label\n",
    "# y axis: accuracy/precision (average of all trials)\n",
    "# group by n_sample\n",
    "\n",
    "labels = {}\n",
    "\n",
    "for _, row in df_results.iterrows():\n",
    "    label = row[\"label\"]\n",
    "    if label not in labels:\n",
    "        labels[label] = []\n",
    "    labels[label].append(row)\n",
    "\n",
    "# get average of accuracy and precision for each label group by n_sample\n",
    "plots = {}\n",
    "for label in labels:\n",
    "    plots[label] = {}\n",
    "    for n_sample in df_results.groupby([\"n_samples\"]).mean():\n",
    "        plots[label][n_sample] = {\n",
    "            \"accuracy\": sum([x[\"accuracy\"] for x in labels[label] if x[\"n_samples\"] == n_sample]) / len([x[\"accuracy\"] for x in labels[label] if x[\"n_samples\"] == n_sample]),\n",
    "            \"precision\": sum([x[\"precision\"] for x in labels[label] if x[\"n_samples\"] == n_sample]) / len([x[\"precision\"] for x in labels[label] if x[\"n_samples\"] == n_sample]),\n",
    "        }\n",
    "# plot\n",
    "plt.figure(figsize=(20, 5))\n",
    "plt.title(f\"{model} - {n_sample} samples - {n_trials} trials\")\n",
    "plt.xlabel(\"label\")\n",
    "plt.ylabel(\"accuracy/precision\")\n",
    "plt.ylim(0, 1)\n",
    "plt.scatter(plots.keys(), [x[\"accuracy\"] for x in plots.values()], label=\"accuracy\")\n",
    "plt.scatter(plots.keys(), [x[\"precision\"] for x in plots.values()], label=\"precision\")\n",
    "plt.legend()\n",
    "# save images\n",
    "plt.savefig(f\"./plots/{group_id}/{model}-{n_sample}-{n_trials}.png\")\n"
   ],
   "metadata": {
    "collapsed": false,
    "ExecuteTime": {
     "end_time": "2023-12-17T11:42:44.894316602Z",
     "start_time": "2023-12-17T11:42:44.847264270Z"
    }
   },
   "id": "fde68ae38c1644b"
  }
 ],
 "metadata": {
  "kernelspec": {
   "display_name": "Python 3",
   "language": "python",
   "name": "python3"
  },
  "language_info": {
   "codemirror_mode": {
    "name": "ipython",
    "version": 2
   },
   "file_extension": ".py",
   "mimetype": "text/x-python",
   "name": "python",
   "nbconvert_exporter": "python",
   "pygments_lexer": "ipython2",
   "version": "2.7.6"
  }
 },
 "nbformat": 4,
 "nbformat_minor": 5
}
